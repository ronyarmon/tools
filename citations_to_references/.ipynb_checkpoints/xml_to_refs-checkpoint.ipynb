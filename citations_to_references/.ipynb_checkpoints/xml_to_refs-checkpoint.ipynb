{
 "cells": [
  {
   "cell_type": "code",
   "execution_count": 28,
   "metadata": {},
   "outputs": [],
   "source": [
    "import xml.etree.ElementTree as ET \n",
    "import re\n",
    "import os\n",
    "def citation_to_reference (index, citation):    \n",
    "    split1,split2,split3 = citation.split ('NameList')\n",
    "    split1 = (split1 + split3).split('\\n')\n",
    "    keep_fields = ['Year','Title','JournalName','Volume','Pages']\n",
    "    field_content = {}\n",
    "    for field in keep_fields:\n",
    "        if field in citation:\n",
    "            content = [item for item in split1 if field in item][0]\n",
    "            content = re.findall('{f}>(.*)<'.format(f=field),content)[0]\n",
    "            field_content [field] = content\n",
    "            #print (field,content)\n",
    "        else:\n",
    "                field_content [field] = '!!!MISSING: {f}!!!'.format (f=field)\n",
    "\n",
    "    # Author names\n",
    "    author_names = split2.split ('\\n')\n",
    "    author_names = [re.sub(\"<|>|ns|:|\\/|\\d|'|Person|\\s{2,}\", ' ',item) for item in author_names]\n",
    "    author_names = [item.rstrip().lstrip() for item in author_names if (('First' in item)|('Last' in item))]\n",
    "    first_names = [item for item in author_names if 'First' in item]\n",
    "    first_names = [re.sub ('First','',item).rstrip().lstrip() for item in first_names]\n",
    "    first_names = [ ('').join ([(name.split(' ')[0][0]),(('').join(name.split(' ')[1:]))]) for name in first_names]\n",
    "    first_names = [re.sub('\\.','',name) for name in first_names]\n",
    "    last_names = [item for item in author_names if 'Last' in item]\n",
    "    last_names = [re.sub ('Last','',item).rstrip().lstrip() for item in last_names]\n",
    "    \n",
    "    if len (first_names)==1:\n",
    "        authors = '{ln0} {fn0}'.format (ln0=last_names[0],fn0=first_names[0])\n",
    "    elif len (first_names)==2:\n",
    "        authors = '{ln0} {fn0} & {ln1} {fn1}'.format (ln0=last_names[0],fn0=first_names[0],\\\n",
    "                                                      ln1=last_names[1],fn1=first_names[1])\n",
    "    elif len (first_names)==3:\n",
    "        authors = '{ln0} {fn0}, {ln1} {fn1} & {ln2} {fn2}'.format (ln0=last_names[0],fn0=first_names[0],\\\n",
    "                                                                   ln1=last_names[1],fn1=first_names[1],\\\n",
    "                                                                   ln2=last_names[2],fn2=first_names[2])\n",
    "    else:\n",
    "        authors = '{ln0} {fn0}, {ln1} {fn1}, {ln2} {fn2} et al.'.format (ln0=last_names[0],fn0=first_names[0],\\\n",
    "                                                                   ln1=last_names[1],fn1=first_names[1],\\\n",
    "                                                                   ln2=last_names[2],fn2=first_names[2])\n",
    "    field_content ['Authors'] = authors \n",
    "    \n",
    "    #print (authors)\n",
    "\n",
    "    \n",
    "    reference = '{authors}({year}) {title}. {jname} {volume}: {pages}'\\\n",
    "                .format (authors = field_content['Authors'],year = field_content['Year'],\\\n",
    "                        title = field_content ['Title'], jname = field_content ['JournalName'],\\\n",
    "                        volume = field_content ['Volume'], pages = field_content ['Pages'])\n",
    "    return reference"
   ]
  },
  {
   "cell_type": "code",
   "execution_count": 35,
   "metadata": {
    "scrolled": false
   },
   "outputs": [
    {
     "name": "stdout",
     "output_type": "stream",
     "text": [
      "Newton JN, Briggs ADM, Murray CJL et al.(2015) Changes in health in England, with analysis by English regions and areas of deprivation, 1990-2013: A systematic analysis for the Global Burden of Disease Study 2013. The Lancet 386: 2257-2274\n",
      "Aitken GR, Roderick PJ, Fraser S et al.(2014) Change in prevalence of chronic kidney disease in England over time: Comparison of nationally representative cross-sectional surveys from 2003 to 2010. !!!MISSING: JournalName!!! 4: e005480\n",
      "McNeely MJ & Boyko EJ(2004) Type 2 diabetes prevalence in Asian Americans: Results of a national health survey. Diabetes Care 27: 66-69\n",
      "Mainous AG, Tanner RJ, Baker R et al.(2014) Prevalence of prediabetes in England from 2003 to 2011: Population-based, cross-sectional study. BMJ Open 4: e005002\n",
      "Nacul LC, Soljak M & Meade T(2007) Model for estimating the population prevalence of chronic obstructive pulmonary disease: Cross sectional data from the health survey for England. Population Health Metrics 5: 1-8\n",
      "Begley CE, Basu R, Lairson D et al.(2011) Socioeconomic status, health care use, and outcomes: Persistence of disparities over time. Epilepsia 52: 957-964\n",
      "Wheeler DC, Waller LA & Elliott JO(2008) Modeling epilepsy disparities among ethnic groups in Philadelphia, PA. Statistics in Medicine 27: 4069-4085\n",
      "Hamdy NAly, Ginby D, Feltbower R et al.(2007) Ethnic differences in the incidence of seizure disorders in children from Bradford, United Kingdom. Epilepsia 48: 913-916\n",
      "Steer S, Pickrell WO, Kerr MP et al.(2014) Epilepsy prevalence and socioeconomic deprivation in England. Epilepsia 55: 1634-1641\n",
      "Kendrick T, Stuart B, Newell C et al.(2015) Changes in rates of recorded depression in English primary care 2003-2013: Time trend analyses of effects of the economic recession, and the GP contract quality outcomes framework (QOF). Journal of Affective Disorders 180: 68-78\n",
      "Honeyford K, Baker R, Bankart MJohnG et al.(2014) Estimating smoking prevalence in general practice using data from the Quality and Outcomes Framework (QOF). BMJ Open 4: e005217\n"
     ]
    }
   ],
   "source": [
    "tree = ET.parse('citations.xml') \n",
    "root = tree.getroot()\n",
    "as_string = ET.tostring(root, encoding='utf8').decode('utf8')\n",
    "citations = as_string.split('<ns0:Tag>')[1:]\n",
    "with open ('references_extracted.txt','w') as f:\n",
    "    for index, citation in enumerate (citations): \n",
    "        reference = citation_to_reference (index,citation)\n",
    "        print (reference)\n",
    "        f.write ('{ref}\\n'.format(ref = reference))"
   ]
  },
  {
   "cell_type": "code",
   "execution_count": null,
   "metadata": {},
   "outputs": [],
   "source": []
  }
 ],
 "metadata": {
  "kernelspec": {
   "display_name": "Python 3",
   "language": "python",
   "name": "python3"
  },
  "language_info": {
   "codemirror_mode": {
    "name": "ipython",
    "version": 3
   },
   "file_extension": ".py",
   "mimetype": "text/x-python",
   "name": "python",
   "nbconvert_exporter": "python",
   "pygments_lexer": "ipython3",
   "version": "3.7.4"
  }
 },
 "nbformat": 4,
 "nbformat_minor": 2
}
